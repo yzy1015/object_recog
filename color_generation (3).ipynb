{
 "cells": [
  {
   "cell_type": "code",
   "execution_count": null,
   "metadata": {
    "collapsed": true
   },
   "outputs": [],
   "source": [
    "from PIL import Image\n",
    "import os\n",
    "import PIL\n",
    "import glob\n",
    "import matplotlib.image as mpimg\n",
    "import matplotlib.pyplot as plt\n",
    "import numpy as np\n",
    "import cv2\n",
    "import scipy.ndimage as ndimage\n",
    "from copy import deepcopy\n",
    "import matplotlib.pyplot as plt\n",
    "from mpl_toolkits.mplot3d import Axes3D\n",
    "import pandas as pd\n",
    "from scipy.stats import multivariate_normal\n",
    "from PIL import ImageFilter"
   ]
  },
  {
   "cell_type": "markdown",
   "metadata": {},
   "source": [
    "# Some mean and covariance matrix (random sample)"
   ]
  },
  {
   "cell_type": "code",
   "execution_count": null,
   "metadata": {
    "collapsed": true
   },
   "outputs": [],
   "source": [
    "def fadeDownFromBlack(pic, divisor, switch=False):  \n",
    "\n",
    "    w = pic.size[0]\n",
    "    h = pic.size[1]\n",
    "\n",
    "    startY = 0\n",
    "    endY = min(h-1, int(h/float(divisor)))\n",
    "    inc = 1\n",
    "\n",
    "    if (switch):\n",
    "        startY = h-1\n",
    "        endY = max(0, h-1 - int(h/float(divisor)))\n",
    "        inc = -1\n",
    "\n",
    "    color_ratio = float(divisor)/h\n",
    "    \n",
    "    img = np.array(pic)\n",
    "    for x in range(startY, endY, inc): \n",
    "        for y in range(0,w):\n",
    "            px = img[x,y,:]\n",
    "            r = ( abs(startY - x)*(color_ratio)*px[0])\n",
    "            g = ( abs(startY - x)*(color_ratio)*px[1])\n",
    "            b = ( abs(startY - x)*(color_ratio)*px[2])\n",
    "            img[x,y,0] = r\n",
    "            img[x,y,1] = g\n",
    "            img[x,y,2] = b\n",
    "\n",
    "    return img\n",
    "            \n",
    "# The following commented line answers the question\n",
    "#fadeDownFromBlack(picture, 2)\n"
   ]
  },
  {
   "cell_type": "code",
   "execution_count": null,
   "metadata": {
    "collapsed": true
   },
   "outputs": [],
   "source": [
    "m1 = np.array([137.52923748635584, 84.341131957786217, 78.770778106970212])\n",
    "cov1 = np.array([[ 723.05062757,  677.25175499,  655.1176708 ],\n",
    "       [ 677.25175499,  660.38979244,  643.14910085],\n",
    "       [ 655.1176708 ,  643.14910085,  640.02131679]])\n",
    "\n",
    "m2 = np.array([118.41996558993118, 147.10866296732593, 123.63691177382354])\n",
    "cov2 = np.array([[ 1463.7264814 ,  1455.4160082 ,  1458.66421291],\n",
    "       [ 1455.4160082 ,  1452.36768879,  1453.54715988],\n",
    "       [ 1458.66421291,  1453.54715988,  1455.55414233]])\n",
    "\n",
    "m3 = np.array([90.595208045488363, 94.424839249654582, 98.290499787437554])\n",
    "cov3 = np.array([[ 1435.54436528,  1448.82313544,  1449.18143498],\n",
    "       [ 1448.82313544,  1469.37034307,  1468.21597487],\n",
    "       [ 1449.18143498,  1468.21597487,  1470.86624136]])\n",
    "\n",
    "m4 = np.array([141.43016272189348, 133.243550295858, 128.4221597633136])\n",
    "cov4 = np.array([[ 151.97751887,  147.18815073,  136.49469691],\n",
    "       [ 147.18815073,  152.01204438,  142.8658939 ],\n",
    "       [ 136.49469691,  142.8658939 ,  140.63687931]])\n",
    "\n",
    "m5 = np.array([54.35281033901164, 77.229001517962558, 88.713642688480348])\n",
    "cov5 = np.array([[ 106.70561537,  113.34657926,  131.36540161],\n",
    "       [ 113.34657926,  130.57528405,  155.08146302],\n",
    "       [ 131.36540161,  155.08146302,  202.94517466]])\n",
    "\n",
    "cov_list = [cov1, cov2, cov3, cov4, cov5]\n",
    "mean_list = [m1, m2, m3, m4, m5]"
   ]
  },
  {
   "cell_type": "code",
   "execution_count": null,
   "metadata": {
    "collapsed": true
   },
   "outputs": [],
   "source": [
    "def generate_img(i,mean_dist, c_matrix, unit, ratio):\n",
    "    mn = multivariate_normal(mean=mean_dist[i], cov=c_matrix[i])\n",
    "    # generate image\n",
    "    random_g = mn.rvs(size=int(unit*unit*ratio))\n",
    "    x0 = np.reshape(random_g.T[0], (unit,int(unit*ratio)))\n",
    "    x1 = np.reshape(random_g.T[1], (unit,int(unit*ratio)))\n",
    "    x2 = np.reshape(random_g.T[2], (unit,int(unit*ratio)))\n",
    "    im = np.array([x0,x1,x2]).T.astype(np.uint8)\n",
    "    im = Image.fromarray(im, 'RGB')\n",
    "    im = fadeDownFromBlack(im, 0.99, True)\n",
    "    # create border\n",
    "    row, col= im.shape[:2]\n",
    "    bottom= im[row-2:row, 0:col]\n",
    "    mean= cv2.mean(bottom)[0]\n",
    "    bordersize=2\n",
    "    border=cv2.copyMakeBorder(im, top=bordersize, bottom=bordersize, left=bordersize, right=bordersize, borderType= cv2.BORDER_CONSTANT, value=[256,256,256] )\n",
    "    return border"
   ]
  },
  {
   "cell_type": "code",
   "execution_count": null,
   "metadata": {},
   "outputs": [],
   "source": [
    "height = 5\n",
    "length = 10\n",
    "units = 100\n",
    "ratio = 1\n",
    "#creates a new empty image, RGB mode, and size 400 by 400.\n",
    "new_im = Image.new('RGB', (length*units+int(units/2),int(height*units*ratio)))\n",
    "k = 1\n",
    "for i in range(0, length*units, units):\n",
    "    \n",
    "    for j in range(0, int(height*units*ratio), int(units*ratio)):\n",
    "        im = Image.fromarray(generate_img(np.random.randint(0,5,1)[0],\n",
    "                                          mean_list,cov_list, units, ratio), 'RGB') # random generate image\n",
    "        \n",
    "        \n",
    "        #im = makeShadow(im, 10, 1, (0,0),  0xFFFFFF, 0x444444)\n",
    "        \n",
    "        im.thumbnail((units,units))\n",
    "        # paste the image at location i,j\n",
    "        new_im.paste(im, (i+(int(j/units)%2)*int(units/2),j))\n",
    "        \n",
    "    else:\n",
    "        continue  # executed if inner loop ended normally (no break)\n",
    "    \n",
    "    break  # executed if 'continue' was skipped (break occurred)\n",
    "\n",
    "img = np.array(new_im)[:,int(units/2):-int(units/2),:]\n",
    "im = Image.fromarray(img, 'RGB')"
   ]
  },
  {
   "cell_type": "code",
   "execution_count": null,
   "metadata": {},
   "outputs": [],
   "source": [
    "im"
   ]
  },
  {
   "cell_type": "code",
   "execution_count": null,
   "metadata": {
    "collapsed": true
   },
   "outputs": [],
   "source": []
  }
 ],
 "metadata": {
  "kernelspec": {
   "display_name": "Python 3",
   "language": "python",
   "name": "python3"
  },
  "language_info": {
   "codemirror_mode": {
    "name": "ipython",
    "version": 3
   },
   "file_extension": ".py",
   "mimetype": "text/x-python",
   "name": "python",
   "nbconvert_exporter": "python",
   "pygments_lexer": "ipython3",
   "version": "3.6.2"
  }
 },
 "nbformat": 4,
 "nbformat_minor": 2
}
